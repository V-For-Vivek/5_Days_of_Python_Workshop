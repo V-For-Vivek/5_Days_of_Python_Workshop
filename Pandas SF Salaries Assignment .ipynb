{
 "cells": [
  {
   "cell_type": "code",
   "execution_count": 124,
   "id": "7a818863",
   "metadata": {
    "ExecuteTime": {
     "end_time": "2022-06-09T16:25:19.473346Z",
     "start_time": "2022-06-09T16:25:19.454339Z"
    }
   },
   "outputs": [],
   "source": [
    "import pandas as pd"
   ]
  },
  {
   "cell_type": "code",
   "execution_count": 125,
   "id": "58bcaf99",
   "metadata": {
    "ExecuteTime": {
     "end_time": "2022-06-09T16:25:20.638266Z",
     "start_time": "2022-06-09T16:25:19.478340Z"
    }
   },
   "outputs": [],
   "source": [
    "salary_data = pd.read_csv('dataset/Salaries.csv',low_memory=False)"
   ]
  },
  {
   "cell_type": "code",
   "execution_count": 126,
   "id": "6e0a2bdf",
   "metadata": {
    "ExecuteTime": {
     "end_time": "2022-06-09T16:25:20.686262Z",
     "start_time": "2022-06-09T16:25:20.642263Z"
    }
   },
   "outputs": [
    {
     "data": {
      "text/html": [
       "<div>\n",
       "<style scoped>\n",
       "    .dataframe tbody tr th:only-of-type {\n",
       "        vertical-align: middle;\n",
       "    }\n",
       "\n",
       "    .dataframe tbody tr th {\n",
       "        vertical-align: top;\n",
       "    }\n",
       "\n",
       "    .dataframe thead th {\n",
       "        text-align: right;\n",
       "    }\n",
       "</style>\n",
       "<table border=\"1\" class=\"dataframe\">\n",
       "  <thead>\n",
       "    <tr style=\"text-align: right;\">\n",
       "      <th></th>\n",
       "      <th>Id</th>\n",
       "      <th>EmployeeName</th>\n",
       "      <th>JobTitle</th>\n",
       "      <th>BasePay</th>\n",
       "      <th>OvertimePay</th>\n",
       "      <th>OtherPay</th>\n",
       "      <th>Benefits</th>\n",
       "      <th>TotalPay</th>\n",
       "      <th>TotalPayBenefits</th>\n",
       "      <th>Year</th>\n",
       "      <th>Notes</th>\n",
       "      <th>Agency</th>\n",
       "      <th>Status</th>\n",
       "    </tr>\n",
       "  </thead>\n",
       "  <tbody>\n",
       "    <tr>\n",
       "      <th>0</th>\n",
       "      <td>1</td>\n",
       "      <td>NATHANIEL FORD</td>\n",
       "      <td>GENERAL MANAGER-METROPOLITAN TRANSIT AUTHORITY</td>\n",
       "      <td>167411.18</td>\n",
       "      <td>0.0</td>\n",
       "      <td>400184.25</td>\n",
       "      <td>NaN</td>\n",
       "      <td>567595.43</td>\n",
       "      <td>567595.43</td>\n",
       "      <td>2011</td>\n",
       "      <td>NaN</td>\n",
       "      <td>San Francisco</td>\n",
       "      <td>NaN</td>\n",
       "    </tr>\n",
       "    <tr>\n",
       "      <th>1</th>\n",
       "      <td>2</td>\n",
       "      <td>GARY JIMENEZ</td>\n",
       "      <td>CAPTAIN III (POLICE DEPARTMENT)</td>\n",
       "      <td>155966.02</td>\n",
       "      <td>245131.88</td>\n",
       "      <td>137811.38</td>\n",
       "      <td>NaN</td>\n",
       "      <td>538909.28</td>\n",
       "      <td>538909.28</td>\n",
       "      <td>2011</td>\n",
       "      <td>NaN</td>\n",
       "      <td>San Francisco</td>\n",
       "      <td>NaN</td>\n",
       "    </tr>\n",
       "    <tr>\n",
       "      <th>2</th>\n",
       "      <td>3</td>\n",
       "      <td>ALBERT PARDINI</td>\n",
       "      <td>CAPTAIN III (POLICE DEPARTMENT)</td>\n",
       "      <td>212739.13</td>\n",
       "      <td>106088.18</td>\n",
       "      <td>16452.6</td>\n",
       "      <td>NaN</td>\n",
       "      <td>335279.91</td>\n",
       "      <td>335279.91</td>\n",
       "      <td>2011</td>\n",
       "      <td>NaN</td>\n",
       "      <td>San Francisco</td>\n",
       "      <td>NaN</td>\n",
       "    </tr>\n",
       "    <tr>\n",
       "      <th>3</th>\n",
       "      <td>4</td>\n",
       "      <td>CHRISTOPHER CHONG</td>\n",
       "      <td>WIRE ROPE CABLE MAINTENANCE MECHANIC</td>\n",
       "      <td>77916.0</td>\n",
       "      <td>56120.71</td>\n",
       "      <td>198306.9</td>\n",
       "      <td>NaN</td>\n",
       "      <td>332343.61</td>\n",
       "      <td>332343.61</td>\n",
       "      <td>2011</td>\n",
       "      <td>NaN</td>\n",
       "      <td>San Francisco</td>\n",
       "      <td>NaN</td>\n",
       "    </tr>\n",
       "    <tr>\n",
       "      <th>4</th>\n",
       "      <td>5</td>\n",
       "      <td>PATRICK GARDNER</td>\n",
       "      <td>DEPUTY CHIEF OF DEPARTMENT,(FIRE DEPARTMENT)</td>\n",
       "      <td>134401.6</td>\n",
       "      <td>9737.0</td>\n",
       "      <td>182234.59</td>\n",
       "      <td>NaN</td>\n",
       "      <td>326373.19</td>\n",
       "      <td>326373.19</td>\n",
       "      <td>2011</td>\n",
       "      <td>NaN</td>\n",
       "      <td>San Francisco</td>\n",
       "      <td>NaN</td>\n",
       "    </tr>\n",
       "  </tbody>\n",
       "</table>\n",
       "</div>"
      ],
      "text/plain": [
       "   Id       EmployeeName                                        JobTitle  \\\n",
       "0   1     NATHANIEL FORD  GENERAL MANAGER-METROPOLITAN TRANSIT AUTHORITY   \n",
       "1   2       GARY JIMENEZ                 CAPTAIN III (POLICE DEPARTMENT)   \n",
       "2   3     ALBERT PARDINI                 CAPTAIN III (POLICE DEPARTMENT)   \n",
       "3   4  CHRISTOPHER CHONG            WIRE ROPE CABLE MAINTENANCE MECHANIC   \n",
       "4   5    PATRICK GARDNER    DEPUTY CHIEF OF DEPARTMENT,(FIRE DEPARTMENT)   \n",
       "\n",
       "     BasePay OvertimePay   OtherPay Benefits   TotalPay  TotalPayBenefits  \\\n",
       "0  167411.18         0.0  400184.25      NaN  567595.43         567595.43   \n",
       "1  155966.02   245131.88  137811.38      NaN  538909.28         538909.28   \n",
       "2  212739.13   106088.18    16452.6      NaN  335279.91         335279.91   \n",
       "3    77916.0    56120.71   198306.9      NaN  332343.61         332343.61   \n",
       "4   134401.6      9737.0  182234.59      NaN  326373.19         326373.19   \n",
       "\n",
       "   Year  Notes         Agency Status  \n",
       "0  2011    NaN  San Francisco    NaN  \n",
       "1  2011    NaN  San Francisco    NaN  \n",
       "2  2011    NaN  San Francisco    NaN  \n",
       "3  2011    NaN  San Francisco    NaN  \n",
       "4  2011    NaN  San Francisco    NaN  "
      ]
     },
     "execution_count": 126,
     "metadata": {},
     "output_type": "execute_result"
    }
   ],
   "source": [
    "salary_data.head()"
   ]
  },
  {
   "cell_type": "code",
   "execution_count": 127,
   "id": "bac91532",
   "metadata": {
    "ExecuteTime": {
     "end_time": "2022-06-09T16:25:21.259284Z",
     "start_time": "2022-06-09T16:25:20.693261Z"
    }
   },
   "outputs": [
    {
     "name": "stdout",
     "output_type": "stream",
     "text": [
      "<class 'pandas.core.frame.DataFrame'>\n",
      "RangeIndex: 148654 entries, 0 to 148653\n",
      "Data columns (total 13 columns):\n",
      " #   Column            Non-Null Count   Dtype  \n",
      "---  ------            --------------   -----  \n",
      " 0   Id                148654 non-null  int64  \n",
      " 1   EmployeeName      148654 non-null  object \n",
      " 2   JobTitle          148654 non-null  object \n",
      " 3   BasePay           148049 non-null  object \n",
      " 4   OvertimePay       148654 non-null  object \n",
      " 5   OtherPay          148654 non-null  object \n",
      " 6   Benefits          112495 non-null  object \n",
      " 7   TotalPay          148654 non-null  float64\n",
      " 8   TotalPayBenefits  148654 non-null  float64\n",
      " 9   Year              148654 non-null  int64  \n",
      " 10  Notes             0 non-null       float64\n",
      " 11  Agency            148654 non-null  object \n",
      " 12  Status            38119 non-null   object \n",
      "dtypes: float64(3), int64(2), object(8)\n",
      "memory usage: 14.7+ MB\n"
     ]
    }
   ],
   "source": [
    "salary_data.info()"
   ]
  },
  {
   "cell_type": "code",
   "execution_count": 128,
   "id": "d58df821",
   "metadata": {
    "ExecuteTime": {
     "end_time": "2022-06-09T16:25:21.323259Z",
     "start_time": "2022-06-09T16:25:21.264263Z"
    }
   },
   "outputs": [
    {
     "data": {
      "text/plain": [
       "605"
      ]
     },
     "execution_count": 128,
     "metadata": {},
     "output_type": "execute_result"
    }
   ],
   "source": [
    "sum(salary_data['BasePay'].isna())"
   ]
  },
  {
   "cell_type": "code",
   "execution_count": 129,
   "id": "d3c1e24f",
   "metadata": {
    "ExecuteTime": {
     "end_time": "2022-06-09T16:25:22.214910Z",
     "start_time": "2022-06-09T16:25:21.327262Z"
    }
   },
   "outputs": [],
   "source": [
    "salary_data['BasePay'].fillna(0,inplace=True)"
   ]
  },
  {
   "cell_type": "code",
   "execution_count": 130,
   "id": "a8335c3f",
   "metadata": {
    "ExecuteTime": {
     "end_time": "2022-06-09T16:25:22.357914Z",
     "start_time": "2022-06-09T16:25:22.219875Z"
    }
   },
   "outputs": [
    {
     "data": {
      "text/plain": [
       "0"
      ]
     },
     "execution_count": 130,
     "metadata": {},
     "output_type": "execute_result"
    }
   ],
   "source": [
    "sum(salary_data['BasePay'].isna())"
   ]
  },
  {
   "cell_type": "code",
   "execution_count": 131,
   "id": "77bb584f",
   "metadata": {
    "ExecuteTime": {
     "end_time": "2022-06-09T16:25:22.437694Z",
     "start_time": "2022-06-09T16:25:22.362872Z"
    }
   },
   "outputs": [],
   "source": [
    "def remove_notprovided(colname):\n",
    "    for item in range(0,len(salary_data[colname])):\n",
    "        if salary_data[colname][item] == \"Not Provided\":\n",
    "            salary_data[colname][item] = 0"
   ]
  },
  {
   "cell_type": "code",
   "execution_count": 132,
   "id": "47858cfb",
   "metadata": {
    "ExecuteTime": {
     "end_time": "2022-06-09T16:25:22.549153Z",
     "start_time": "2022-06-09T16:25:22.444633Z"
    }
   },
   "outputs": [],
   "source": [
    "def convert_to_float(colname):\n",
    "    salary_data[colname] = pd.to_numeric(salary_data[colname],downcast='float')"
   ]
  },
  {
   "cell_type": "code",
   "execution_count": 150,
   "id": "ac6de386",
   "metadata": {
    "ExecuteTime": {
     "end_time": "2022-06-09T16:25:37.966395Z",
     "start_time": "2022-06-09T16:25:35.863418Z"
    }
   },
   "outputs": [],
   "source": [
    "remove_notprovided('BasePay')"
   ]
  },
  {
   "cell_type": "code",
   "execution_count": 151,
   "id": "526a1634",
   "metadata": {
    "ExecuteTime": {
     "end_time": "2022-06-09T16:25:40.055407Z",
     "start_time": "2022-06-09T16:25:38.017028Z"
    }
   },
   "outputs": [],
   "source": [
    "remove_notprovided('OvertimePay')"
   ]
  },
  {
   "cell_type": "code",
   "execution_count": 135,
   "id": "0e90fe8d",
   "metadata": {
    "ExecuteTime": {
     "end_time": "2022-06-09T16:25:26.094923Z",
     "start_time": "2022-06-09T16:25:25.993983Z"
    }
   },
   "outputs": [],
   "source": [
    "convert_to_float('BasePay')"
   ]
  },
  {
   "cell_type": "code",
   "execution_count": 136,
   "id": "05927ac2",
   "metadata": {
    "ExecuteTime": {
     "end_time": "2022-06-09T16:25:26.853703Z",
     "start_time": "2022-06-09T16:25:26.097910Z"
    }
   },
   "outputs": [],
   "source": [
    "convert_to_float('OvertimePay')"
   ]
  },
  {
   "cell_type": "code",
   "execution_count": 137,
   "id": "901e2061",
   "metadata": {
    "ExecuteTime": {
     "end_time": "2022-06-09T16:25:26.995363Z",
     "start_time": "2022-06-09T16:25:26.853703Z"
    }
   },
   "outputs": [
    {
     "data": {
      "text/plain": [
       "66047.828125"
      ]
     },
     "execution_count": 137,
     "metadata": {},
     "output_type": "execute_result"
    }
   ],
   "source": [
    "salary_data['BasePay'].mean()"
   ]
  },
  {
   "cell_type": "code",
   "execution_count": 138,
   "id": "4a359b2a",
   "metadata": {
    "ExecuteTime": {
     "end_time": "2022-06-09T16:25:27.088271Z",
     "start_time": "2022-06-09T16:25:27.001415Z"
    }
   },
   "outputs": [
    {
     "data": {
      "text/plain": [
       "11448.66015625"
      ]
     },
     "execution_count": 138,
     "metadata": {},
     "output_type": "execute_result"
    }
   ],
   "source": [
    "salary_data['OvertimePay'].std()"
   ]
  },
  {
   "cell_type": "code",
   "execution_count": 139,
   "id": "71f0f125",
   "metadata": {
    "ExecuteTime": {
     "end_time": "2022-06-09T16:25:27.230278Z",
     "start_time": "2022-06-09T16:25:27.092291Z"
    },
    "scrolled": true
   },
   "outputs": [
    {
     "data": {
      "text/plain": [
       "24    CAPTAIN, FIRE SUPPRESSION\n",
       "Name: JobTitle, dtype: object"
      ]
     },
     "execution_count": 139,
     "metadata": {},
     "output_type": "execute_result"
    }
   ],
   "source": [
    "salary_data[salary_data['EmployeeName'] == 'JOSEPH DRISCOLL']['JobTitle']"
   ]
  },
  {
   "cell_type": "code",
   "execution_count": 140,
   "id": "b459367a",
   "metadata": {
    "ExecuteTime": {
     "end_time": "2022-06-09T16:25:27.373003Z",
     "start_time": "2022-06-09T16:25:27.234284Z"
    }
   },
   "outputs": [
    {
     "data": {
      "text/plain": [
       "24    270324.91\n",
       "Name: TotalPayBenefits, dtype: float64"
      ]
     },
     "execution_count": 140,
     "metadata": {},
     "output_type": "execute_result"
    }
   ],
   "source": [
    "salary_data[salary_data['EmployeeName'] == 'JOSEPH DRISCOLL']['TotalPayBenefits']"
   ]
  },
  {
   "cell_type": "code",
   "execution_count": 141,
   "id": "93d7d083",
   "metadata": {
    "ExecuteTime": {
     "end_time": "2022-06-09T16:25:27.529519Z",
     "start_time": "2022-06-09T16:25:27.379011Z"
    }
   },
   "outputs": [
    {
     "data": {
      "text/plain": [
       "0    NATHANIEL FORD\n",
       "Name: EmployeeName, dtype: object"
      ]
     },
     "execution_count": 141,
     "metadata": {},
     "output_type": "execute_result"
    }
   ],
   "source": [
    "salary_data[salary_data['TotalPayBenefits'] == salary_data['TotalPayBenefits'].max()]['EmployeeName']"
   ]
  },
  {
   "cell_type": "code",
   "execution_count": 142,
   "id": "8f7e0ee0",
   "metadata": {
    "ExecuteTime": {
     "end_time": "2022-06-09T16:25:27.655556Z",
     "start_time": "2022-06-09T16:25:27.534483Z"
    }
   },
   "outputs": [
    {
     "data": {
      "text/plain": [
       "148653    Joe Lopez\n",
       "Name: EmployeeName, dtype: object"
      ]
     },
     "execution_count": 142,
     "metadata": {},
     "output_type": "execute_result"
    }
   ],
   "source": [
    "salary_data[salary_data['TotalPayBenefits'] == salary_data['TotalPayBenefits'].min()]['EmployeeName']"
   ]
  },
  {
   "cell_type": "code",
   "execution_count": 143,
   "id": "151f28de",
   "metadata": {
    "ExecuteTime": {
     "end_time": "2022-06-09T16:25:27.797232Z",
     "start_time": "2022-06-09T16:25:27.660563Z"
    }
   },
   "outputs": [
    {
     "data": {
      "text/plain": [
       "Year\n",
       "2011    63595.957031\n",
       "2012    65436.406250\n",
       "2013    68509.835938\n",
       "2014    66557.437500\n",
       "Name: BasePay, dtype: float32"
      ]
     },
     "execution_count": 143,
     "metadata": {},
     "output_type": "execute_result"
    }
   ],
   "source": [
    "salary_data.groupby('Year').mean()['BasePay']"
   ]
  },
  {
   "cell_type": "code",
   "execution_count": 144,
   "id": "cde7ccc9",
   "metadata": {
    "ExecuteTime": {
     "end_time": "2022-06-09T16:25:27.907664Z",
     "start_time": "2022-06-09T16:25:27.801238Z"
    }
   },
   "outputs": [
    {
     "data": {
      "text/plain": [
       "2159"
      ]
     },
     "execution_count": 144,
     "metadata": {},
     "output_type": "execute_result"
    }
   ],
   "source": [
    "salary_data['JobTitle'].nunique()"
   ]
  },
  {
   "cell_type": "code",
   "execution_count": 145,
   "id": "90df26b6",
   "metadata": {
    "ExecuteTime": {
     "end_time": "2022-06-09T16:25:28.034365Z",
     "start_time": "2022-06-09T16:25:27.911663Z"
    }
   },
   "outputs": [
    {
     "data": {
      "text/plain": [
       "Transit Operator                7036\n",
       "Special Nurse                   4389\n",
       "Registered Nurse                3736\n",
       "Public Svc Aide-Public Works    2518\n",
       "Police Officer 3                2421\n",
       "Name: JobTitle, dtype: int64"
      ]
     },
     "execution_count": 145,
     "metadata": {},
     "output_type": "execute_result"
    }
   ],
   "source": [
    "salary_data['JobTitle'].value_counts().head(5)"
   ]
  },
  {
   "cell_type": "code",
   "execution_count": 146,
   "id": "e8660c4c",
   "metadata": {
    "ExecuteTime": {
     "end_time": "2022-06-09T16:25:28.159746Z",
     "start_time": "2022-06-09T16:25:28.038385Z"
    },
    "scrolled": true
   },
   "outputs": [
    {
     "data": {
      "text/plain": [
       "202"
      ]
     },
     "execution_count": 146,
     "metadata": {},
     "output_type": "execute_result"
    }
   ],
   "source": [
    "sum(salary_data[salary_data['Year']==2013]['JobTitle'].value_counts()==1)"
   ]
  },
  {
   "cell_type": "code",
   "execution_count": 147,
   "id": "a3d0872d",
   "metadata": {
    "ExecuteTime": {
     "end_time": "2022-06-09T16:25:28.318142Z",
     "start_time": "2022-06-09T16:25:28.164747Z"
    }
   },
   "outputs": [
    {
     "data": {
      "text/plain": [
       "627"
      ]
     },
     "execution_count": 147,
     "metadata": {},
     "output_type": "execute_result"
    }
   ],
   "source": [
    "len([title for title in salary_data['JobTitle'] if 'chief' in title.lower()])"
   ]
  },
  {
   "cell_type": "code",
   "execution_count": 148,
   "id": "f53b40d9",
   "metadata": {
    "ExecuteTime": {
     "end_time": "2022-06-09T16:25:28.504033Z",
     "start_time": "2022-06-09T16:25:28.323156Z"
    }
   },
   "outputs": [],
   "source": [
    "salary_data['title_len'] = salary_data['JobTitle'].apply(len)"
   ]
  },
  {
   "cell_type": "code",
   "execution_count": 149,
   "id": "7a49baa7",
   "metadata": {
    "ExecuteTime": {
     "end_time": "2022-06-09T16:25:28.635220Z",
     "start_time": "2022-06-09T16:25:28.509034Z"
    }
   },
   "outputs": [
    {
     "data": {
      "text/html": [
       "<div>\n",
       "<style scoped>\n",
       "    .dataframe tbody tr th:only-of-type {\n",
       "        vertical-align: middle;\n",
       "    }\n",
       "\n",
       "    .dataframe tbody tr th {\n",
       "        vertical-align: top;\n",
       "    }\n",
       "\n",
       "    .dataframe thead th {\n",
       "        text-align: right;\n",
       "    }\n",
       "</style>\n",
       "<table border=\"1\" class=\"dataframe\">\n",
       "  <thead>\n",
       "    <tr style=\"text-align: right;\">\n",
       "      <th></th>\n",
       "      <th>title_len</th>\n",
       "      <th>TotalPayBenefits</th>\n",
       "    </tr>\n",
       "  </thead>\n",
       "  <tbody>\n",
       "    <tr>\n",
       "      <th>title_len</th>\n",
       "      <td>1.000000</td>\n",
       "      <td>-0.036878</td>\n",
       "    </tr>\n",
       "    <tr>\n",
       "      <th>TotalPayBenefits</th>\n",
       "      <td>-0.036878</td>\n",
       "      <td>1.000000</td>\n",
       "    </tr>\n",
       "  </tbody>\n",
       "</table>\n",
       "</div>"
      ],
      "text/plain": [
       "                  title_len  TotalPayBenefits\n",
       "title_len          1.000000         -0.036878\n",
       "TotalPayBenefits  -0.036878          1.000000"
      ]
     },
     "execution_count": 149,
     "metadata": {},
     "output_type": "execute_result"
    }
   ],
   "source": [
    "salary_data[['title_len','TotalPayBenefits']].corr()"
   ]
  }
 ],
 "metadata": {
  "kernelspec": {
   "display_name": "Python 3 (ipykernel)",
   "language": "python",
   "name": "python3"
  },
  "language_info": {
   "codemirror_mode": {
    "name": "ipython",
    "version": 3
   },
   "file_extension": ".py",
   "mimetype": "text/x-python",
   "name": "python",
   "nbconvert_exporter": "python",
   "pygments_lexer": "ipython3",
   "version": "3.9.12"
  },
  "varInspector": {
   "cols": {
    "lenName": 16,
    "lenType": 16,
    "lenVar": 40
   },
   "kernels_config": {
    "python": {
     "delete_cmd_postfix": "",
     "delete_cmd_prefix": "del ",
     "library": "var_list.py",
     "varRefreshCmd": "print(var_dic_list())"
    },
    "r": {
     "delete_cmd_postfix": ") ",
     "delete_cmd_prefix": "rm(",
     "library": "var_list.r",
     "varRefreshCmd": "cat(var_dic_list()) "
    }
   },
   "types_to_exclude": [
    "module",
    "function",
    "builtin_function_or_method",
    "instance",
    "_Feature"
   ],
   "window_display": false
  }
 },
 "nbformat": 4,
 "nbformat_minor": 5
}
