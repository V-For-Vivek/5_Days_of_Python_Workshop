{
 "cells": [
  {
   "cell_type": "code",
   "execution_count": 2,
   "id": "1fddf524",
   "metadata": {
    "ExecuteTime": {
     "end_time": "2022-06-07T17:22:50.167066Z",
     "start_time": "2022-06-07T17:22:50.145441Z"
    }
   },
   "outputs": [
    {
     "name": "stdout",
     "output_type": "stream",
     "text": [
      "2401\n"
     ]
    }
   ],
   "source": [
    "print(7**4)"
   ]
  },
  {
   "cell_type": "code",
   "execution_count": 5,
   "id": "724d1408",
   "metadata": {
    "ExecuteTime": {
     "end_time": "2022-06-07T17:24:07.103290Z",
     "start_time": "2022-06-07T17:24:07.089288Z"
    }
   },
   "outputs": [
    {
     "name": "stdout",
     "output_type": "stream",
     "text": [
      "['Hi', 'there', 'Yogesh!']\n"
     ]
    }
   ],
   "source": [
    "s = \"Hi there Yogesh!\"\n",
    "slst = s.split(\" \")\n",
    "print(slst)"
   ]
  },
  {
   "cell_type": "code",
   "execution_count": 6,
   "id": "c7de8cc3",
   "metadata": {
    "ExecuteTime": {
     "end_time": "2022-06-07T17:25:27.246298Z",
     "start_time": "2022-06-07T17:25:27.237336Z"
    }
   },
   "outputs": [
    {
     "name": "stdout",
     "output_type": "stream",
     "text": [
      "The diameter of Earth is 12742 kilometers.\n"
     ]
    }
   ],
   "source": [
    "planet = \"Earth\"\n",
    "diameter = 12742\n",
    "print(\"The diameter of {} is {} kilometers.\".format(planet, diameter))"
   ]
  },
  {
   "cell_type": "code",
   "execution_count": 7,
   "id": "b9c833d0",
   "metadata": {
    "ExecuteTime": {
     "end_time": "2022-06-07T17:27:08.537901Z",
     "start_time": "2022-06-07T17:27:08.506951Z"
    }
   },
   "outputs": [
    {
     "data": {
      "text/plain": [
       "'The diameter of Earth is 12742 kilometers.'"
      ]
     },
     "execution_count": 7,
     "metadata": {},
     "output_type": "execute_result"
    }
   ],
   "source": [
    "planet = \"Earth\"\n",
    "diameter = 12742\n",
    "\"The diameter of {} is {} kilometers.\".format(planet, diameter)"
   ]
  },
  {
   "cell_type": "code",
   "execution_count": 26,
   "id": "4a96ec9d",
   "metadata": {
    "ExecuteTime": {
     "end_time": "2022-06-07T17:34:33.015468Z",
     "start_time": "2022-06-07T17:34:32.991470Z"
    }
   },
   "outputs": [
    {
     "data": {
      "text/plain": [
       "'hello'"
      ]
     },
     "execution_count": 26,
     "metadata": {},
     "output_type": "execute_result"
    }
   ],
   "source": [
    "lst = [1,2,[3,4],[5,[100,200,['hello']],23,11],1,7]\n",
    "lst[3][1][2][0]"
   ]
  },
  {
   "cell_type": "code",
   "execution_count": 31,
   "id": "3dbc579c",
   "metadata": {
    "ExecuteTime": {
     "end_time": "2022-06-07T17:36:43.310995Z",
     "start_time": "2022-06-07T17:36:43.284001Z"
    }
   },
   "outputs": [
    {
     "data": {
      "text/plain": [
       "'hello'"
      ]
     },
     "execution_count": 31,
     "metadata": {},
     "output_type": "execute_result"
    }
   ],
   "source": [
    "d = {'k1':[1,2,3,{'tricky':['oh','man','inception',{'target':\n",
    "[1,2,3,'hello']}]}]}\n",
    "d['k1'][3]['tricky'][3]['target'][3]"
   ]
  },
  {
   "cell_type": "code",
   "execution_count": 41,
   "id": "9d371fef",
   "metadata": {
    "ExecuteTime": {
     "end_time": "2022-06-07T17:43:15.919071Z",
     "start_time": "2022-06-07T17:43:15.903037Z"
    }
   },
   "outputs": [],
   "source": [
    "def extractEmailWebsite(email):\n",
    "    return email[email.find('@')+1:]"
   ]
  },
  {
   "cell_type": "code",
   "execution_count": 42,
   "id": "d4464794",
   "metadata": {
    "ExecuteTime": {
     "end_time": "2022-06-07T17:43:17.294000Z",
     "start_time": "2022-06-07T17:43:17.278331Z"
    }
   },
   "outputs": [
    {
     "data": {
      "text/plain": [
       "'gmail.com'"
      ]
     },
     "execution_count": 42,
     "metadata": {},
     "output_type": "execute_result"
    }
   ],
   "source": [
    "extractEmailWebsite('xyz@gmail.com')"
   ]
  },
  {
   "cell_type": "code",
   "execution_count": 123,
   "id": "30a94863",
   "metadata": {
    "ExecuteTime": {
     "end_time": "2022-06-07T18:08:15.252805Z",
     "start_time": "2022-06-07T18:08:15.231808Z"
    }
   },
   "outputs": [],
   "source": [
    "def findDog(string):\n",
    "    return string.find('dog')!=-1"
   ]
  },
  {
   "cell_type": "code",
   "execution_count": 126,
   "id": "8dc0e534",
   "metadata": {
    "ExecuteTime": {
     "end_time": "2022-06-07T18:08:25.938310Z",
     "start_time": "2022-06-07T18:08:25.926316Z"
    }
   },
   "outputs": [
    {
     "data": {
      "text/plain": [
       "True"
      ]
     },
     "execution_count": 126,
     "metadata": {},
     "output_type": "execute_result"
    }
   ],
   "source": [
    "findDog('Is there a dog here?')"
   ]
  },
  {
   "cell_type": "code",
   "execution_count": 127,
   "id": "bd0c63a7",
   "metadata": {
    "ExecuteTime": {
     "end_time": "2022-06-07T18:09:41.834969Z",
     "start_time": "2022-06-07T18:09:41.823963Z"
    }
   },
   "outputs": [],
   "source": [
    "def countDog(string):\n",
    "    return string.count('dog')"
   ]
  },
  {
   "cell_type": "code",
   "execution_count": 128,
   "id": "b48e6ae4",
   "metadata": {
    "ExecuteTime": {
     "end_time": "2022-06-07T18:09:56.762097Z",
     "start_time": "2022-06-07T18:09:56.744100Z"
    }
   },
   "outputs": [
    {
     "data": {
      "text/plain": [
       "2"
      ]
     },
     "execution_count": 128,
     "metadata": {},
     "output_type": "execute_result"
    }
   ],
   "source": [
    "countDog('This dog runs faster than the other dog dude!')"
   ]
  },
  {
   "cell_type": "code",
   "execution_count": 136,
   "id": "8b5fba2e",
   "metadata": {
    "ExecuteTime": {
     "end_time": "2022-06-07T18:12:32.162805Z",
     "start_time": "2022-06-07T18:12:32.140812Z"
    }
   },
   "outputs": [
    {
     "data": {
      "text/plain": [
       "['dog', 'cat', 'great']"
      ]
     },
     "execution_count": 136,
     "metadata": {},
     "output_type": "execute_result"
    }
   ],
   "source": [
    "lam_not_s = lambda x: x[0]!='s'\n",
    "seq = ['soup','dog','salad','cat','great']\n",
    "list(filter(lam_not_s, seq))"
   ]
  },
  {
   "cell_type": "code",
   "execution_count": 143,
   "id": "0f06eb7c",
   "metadata": {
    "ExecuteTime": {
     "end_time": "2022-06-07T18:23:51.212023Z",
     "start_time": "2022-06-07T18:23:51.198022Z"
    }
   },
   "outputs": [],
   "source": [
    "def caught_speeding(speed, is_birthday):\n",
    "    if is_birthday:\n",
    "        if speed == 86 or speed > 86:\n",
    "            print(\"Big Ticket\")\n",
    "        elif speed >= 66 and speed <= 85:\n",
    "            print(\"Small Ticket\")\n",
    "        else:\n",
    "            print(\"No Ticket\")\n",
    "    else:\n",
    "        if speed == 81 or speed > 81:\n",
    "            print(\"Big Ticket\")\n",
    "        elif speed >= 61 and speed <= 80:\n",
    "            print(\"Small Ticket\")\n",
    "        else:\n",
    "            print(\"No Ticket\")"
   ]
  },
  {
   "cell_type": "code",
   "execution_count": 144,
   "id": "f83c290c",
   "metadata": {
    "ExecuteTime": {
     "end_time": "2022-06-07T18:23:53.349421Z",
     "start_time": "2022-06-07T18:23:53.333893Z"
    }
   },
   "outputs": [
    {
     "name": "stdout",
     "output_type": "stream",
     "text": [
      "Small Ticket\n"
     ]
    }
   ],
   "source": [
    "caught_speeding(81,True)"
   ]
  },
  {
   "cell_type": "code",
   "execution_count": 145,
   "id": "4bc510f2",
   "metadata": {
    "ExecuteTime": {
     "end_time": "2022-06-07T18:24:06.118065Z",
     "start_time": "2022-06-07T18:24:06.096068Z"
    }
   },
   "outputs": [
    {
     "name": "stdout",
     "output_type": "stream",
     "text": [
      "Big Ticket\n"
     ]
    }
   ],
   "source": [
    "caught_speeding(81,False)"
   ]
  },
  {
   "cell_type": "code",
   "execution_count": 176,
   "id": "274dc2cd",
   "metadata": {
    "ExecuteTime": {
     "end_time": "2022-06-07T18:39:10.283730Z",
     "start_time": "2022-06-07T18:39:10.265723Z"
    }
   },
   "outputs": [],
   "source": [
    "def extractDigit(digistring):\n",
    "    if digistring[0] == '-':\n",
    "        print('-',end=\"\")\n",
    "    for index in range(len(digistring)):\n",
    "        if digistring[index].isdigit():\n",
    "            print(digistring[index],end=\"\")"
   ]
  },
  {
   "cell_type": "code",
   "execution_count": 177,
   "id": "62ee6670",
   "metadata": {
    "ExecuteTime": {
     "end_time": "2022-06-07T18:39:12.223959Z",
     "start_time": "2022-06-07T18:39:12.215000Z"
    }
   },
   "outputs": [
    {
     "name": "stdout",
     "output_type": "stream",
     "text": [
      "-123"
     ]
    }
   ],
   "source": [
    "extractDigit(\"-123abcd\")"
   ]
  },
  {
   "cell_type": "code",
   "execution_count": 178,
   "id": "4a115f9b",
   "metadata": {
    "ExecuteTime": {
     "end_time": "2022-06-07T18:39:13.684672Z",
     "start_time": "2022-06-07T18:39:13.663678Z"
    },
    "scrolled": true
   },
   "outputs": [
    {
     "name": "stdout",
     "output_type": "stream",
     "text": [
      "7889"
     ]
    }
   ],
   "source": [
    "extractDigit(\"fdhfh78dsd89\")"
   ]
  },
  {
   "cell_type": "code",
   "execution_count": 179,
   "id": "017ba943",
   "metadata": {
    "ExecuteTime": {
     "end_time": "2022-06-07T18:39:36.405894Z",
     "start_time": "2022-06-07T18:39:36.390896Z"
    },
    "scrolled": true
   },
   "outputs": [
    {
     "name": "stdout",
     "output_type": "stream",
     "text": [
      "456"
     ]
    }
   ],
   "source": [
    "extractDigit(\"abcd456\")"
   ]
  },
  {
   "cell_type": "code",
   "execution_count": 180,
   "id": "5f106d77",
   "metadata": {
    "ExecuteTime": {
     "end_time": "2022-06-07T18:40:12.463662Z",
     "start_time": "2022-06-07T18:40:12.445655Z"
    }
   },
   "outputs": [
    {
     "name": "stdout",
     "output_type": "stream",
     "text": [
      "-5678"
     ]
    }
   ],
   "source": [
    "extractDigit(\"-56dssd78\")"
   ]
  },
  {
   "cell_type": "code",
   "execution_count": null,
   "id": "cd09cc74",
   "metadata": {},
   "outputs": [],
   "source": [
    "number = input(\"Enter a Number : \")"
   ]
  },
  {
   "cell_type": "code",
   "execution_count": null,
   "id": "e7d78073",
   "metadata": {},
   "outputs": [],
   "source": []
  },
  {
   "cell_type": "code",
   "execution_count": null,
   "id": "fca15cda",
   "metadata": {},
   "outputs": [],
   "source": []
  },
  {
   "cell_type": "code",
   "execution_count": null,
   "id": "baa138b0",
   "metadata": {},
   "outputs": [],
   "source": []
  },
  {
   "cell_type": "code",
   "execution_count": null,
   "id": "f382bb53",
   "metadata": {},
   "outputs": [],
   "source": []
  }
 ],
 "metadata": {
  "kernelspec": {
   "display_name": "Python 3 (ipykernel)",
   "language": "python",
   "name": "python3"
  },
  "language_info": {
   "codemirror_mode": {
    "name": "ipython",
    "version": 3
   },
   "file_extension": ".py",
   "mimetype": "text/x-python",
   "name": "python",
   "nbconvert_exporter": "python",
   "pygments_lexer": "ipython3",
   "version": "3.9.12"
  },
  "varInspector": {
   "cols": {
    "lenName": 16,
    "lenType": 16,
    "lenVar": 40
   },
   "kernels_config": {
    "python": {
     "delete_cmd_postfix": "",
     "delete_cmd_prefix": "del ",
     "library": "var_list.py",
     "varRefreshCmd": "print(var_dic_list())"
    },
    "r": {
     "delete_cmd_postfix": ") ",
     "delete_cmd_prefix": "rm(",
     "library": "var_list.r",
     "varRefreshCmd": "cat(var_dic_list()) "
    }
   },
   "types_to_exclude": [
    "module",
    "function",
    "builtin_function_or_method",
    "instance",
    "_Feature"
   ],
   "window_display": false
  }
 },
 "nbformat": 4,
 "nbformat_minor": 5
}
